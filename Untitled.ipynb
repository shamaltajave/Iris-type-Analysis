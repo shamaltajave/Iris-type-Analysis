{
 "cells": [
  {
   "cell_type": "code",
   "execution_count": null,
   "metadata": {},
   "outputs": [],
   "source": []
  },
  {
   "cell_type": "code",
   "execution_count": 2,
   "metadata": {},
   "outputs": [],
   "source": [
    "\n",
    "def prediction():\n",
    "    if request.method=='POST':\n",
    "        SepalLengthCm = float(['SepalLengthCm'])\n",
    "        SepalWidthCm  = float(['SepalWidthCm'])\n",
    "        PetalLengthCm = float(['PetalLengthCm'])\n",
    "        PetalWidthCm  = float(['PetalWidthCm'])\n",
    "        print('SepalLengthCm,SepalWidthCm,PetalLengthCm, PetalWidthCm', SepalLengthCm,SepalWidthCm,PetalLengthCm, PetalWidthCm)\n",
    "        species= test.predict_species(SepalLengthCm,SepalWidthCm,PetalLengthCm, PetalWidthCm)\n",
    "        print('Predicted Species is', species)"
   ]
  },
  {
   "cell_type": "code",
   "execution_count": null,
   "metadata": {},
   "outputs": [],
   "source": []
  },
  {
   "cell_type": "code",
   "execution_count": null,
   "metadata": {},
   "outputs": [],
   "source": []
  },
  {
   "cell_type": "code",
   "execution_count": null,
   "metadata": {},
   "outputs": [],
   "source": []
  },
  {
   "cell_type": "code",
   "execution_count": null,
   "metadata": {},
   "outputs": [],
   "source": []
  },
  {
   "cell_type": "code",
   "execution_count": null,
   "metadata": {},
   "outputs": [],
   "source": []
  }
 ],
 "metadata": {
  "kernelspec": {
   "display_name": "Python 3",
   "language": "python",
   "name": "python3"
  },
  "language_info": {
   "codemirror_mode": {
    "name": "ipython",
    "version": 3
   },
   "file_extension": ".py",
   "mimetype": "text/x-python",
   "name": "python",
   "nbconvert_exporter": "python",
   "pygments_lexer": "ipython3",
   "version": "3.8.5"
  }
 },
 "nbformat": 4,
 "nbformat_minor": 4
}
